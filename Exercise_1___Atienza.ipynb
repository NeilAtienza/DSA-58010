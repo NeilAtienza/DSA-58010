{
  "nbformat": 4,
  "nbformat_minor": 0,
  "metadata": {
    "colab": {
      "name": "Exercise 1 _ Atienza.ipynb",
      "provenance": [],
      "authorship_tag": "ABX9TyOVoWL1601leg/oXOeCCE3v",
      "include_colab_link": true
    },
    "kernelspec": {
      "name": "python3",
      "display_name": "Python 3"
    },
    "language_info": {
      "name": "python"
    }
  },
  "cells": [
    {
      "cell_type": "markdown",
      "metadata": {
        "id": "view-in-github",
        "colab_type": "text"
      },
      "source": [
        "<a href=\"https://colab.research.google.com/github/VaNeila/DSA-58010/blob/main/Exercise_1___Atienza.ipynb\" target=\"_parent\"><img src=\"https://colab.research.google.com/assets/colab-badge.svg\" alt=\"Open In Colab\"/></a>"
      ]
    },
    {
      "cell_type": "markdown",
      "source": [
        "Area of the circle using radius"
      ],
      "metadata": {
        "id": "v1nw9C60Z7Kt"
      }
    },
    {
      "cell_type": "code",
      "execution_count": 1,
      "metadata": {
        "colab": {
          "base_uri": "https://localhost:8080/"
        },
        "id": "lcgFlxBlZHd7",
        "outputId": "7cb3f3c4-f0c9-4696-9c8a-df7d9fe199cf"
      },
      "outputs": [
        {
          "output_type": "stream",
          "name": "stdout",
          "text": [
            "16\n",
            "The area of the circle using radius is 803.84\n"
          ]
        }
      ],
      "source": [
        "class Circle():\n",
        "  def __init__ (self, rad):\n",
        "    self.rad = int (rad)\n",
        "\n",
        "  def Area (self):\n",
        "    return pie * (self.rad ** 2)\n",
        "\n",
        "  def display (self):\n",
        "    print (\"The area of the circle using radius is\", self.Area())\n",
        "\n",
        "pie = 3.14\n",
        "picha = Circle (input())\n",
        "picha.display()"
      ]
    },
    {
      "cell_type": "markdown",
      "source": [
        "Area of the circle using diameter"
      ],
      "metadata": {
        "id": "hxKMtfdHZ3d5"
      }
    },
    {
      "cell_type": "code",
      "source": [
        "class Circle():\n",
        "  def __init__ (self, dia):\n",
        "    self.dia = int (dia)\n",
        "\n",
        "  def Area (self):\n",
        "    return pie * (self.dia ** 2) / 4\n",
        "\n",
        "  def display (self):\n",
        "    print (\"The area of the circle using diameter is\", self.Area())\n",
        "\n",
        "pie = 3.14\n",
        "picha = Circle (input())\n",
        "picha.display()"
      ],
      "metadata": {
        "colab": {
          "base_uri": "https://localhost:8080/"
        },
        "id": "tdLPtd0FanTm",
        "outputId": "7022af87-eca4-4c0f-e6c8-2b66d35412b3"
      },
      "execution_count": 3,
      "outputs": [
        {
          "output_type": "stream",
          "name": "stdout",
          "text": [
            "32\n",
            "The area of the circle using diameter is 803.84\n"
          ]
        }
      ]
    }
  ]
}