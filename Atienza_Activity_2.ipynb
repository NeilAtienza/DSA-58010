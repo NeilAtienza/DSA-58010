{
  "nbformat": 4,
  "nbformat_minor": 0,
  "metadata": {
    "colab": {
      "provenance": [],
      "authorship_tag": "ABX9TyN1flqsXWQmsnw8baffgO4E",
      "include_colab_link": true
    },
    "kernelspec": {
      "name": "python3",
      "display_name": "Python 3"
    },
    "language_info": {
      "name": "python"
    }
  },
  "cells": [
    {
      "cell_type": "markdown",
      "metadata": {
        "id": "view-in-github",
        "colab_type": "text"
      },
      "source": [
        "<a href=\"https://colab.research.google.com/github/VaNeila/DSA-58010/blob/main/Atienza_Activity_2.ipynb\" target=\"_parent\"><img src=\"https://colab.research.google.com/assets/colab-badge.svg\" alt=\"Open In Colab\"/></a>"
      ]
    },
    {
      "cell_type": "markdown",
      "source": [
        "Write a Python program to create a singly linked list of prime numbers less than 20. By iterating through the list, display all the prime numbers, the head, and the tail of the list. (using Google Colab)"
      ],
      "metadata": {
        "id": "-H0fPjU1Il0a"
      }
    },
    {
      "cell_type": "code",
      "source": [
        "class Node:\n",
        "  def __init__(self,data):\n",
        "    self.data = data\n",
        "    self.ref = None\n",
        "\n",
        "class LinkedList:\n",
        "  def __init__(self):\n",
        "    self.head = None\n",
        "  def print_LL(self):\n",
        "    n = self.head\n",
        "    while(n):\n",
        "      print(n.data)\n",
        "      n = n.next\n",
        "\n",
        "\n",
        "llist = LinkedList()\n",
        "\n",
        "llist.head = PrimeNumbers(\"2\")\n",
        "number2 = PrimeNumbers(\"3\")\n",
        "number3 = PrimeNumbers(\"5\")\n",
        "number4 = PrimeNumbers(\"7\")\n",
        "number5 = PrimeNumbers(\"11\")\n",
        "number6 = PrimeNumbers(\"13\")\n",
        "number7 = PrimeNumbers(\"17\")\n",
        "llist.tail = PrimeNumbers(\"19\")\n",
        "\n",
        "llist.head.next = number2\n",
        "number2.next = number3\n",
        "number3.next = number4\n",
        "number4.next = number5\n",
        "number5.next = number6\n",
        "number6.next = number7\n",
        "number7.next = llist.tail\n",
        "\n",
        "\n",
        "llist.print_LL()"
      ],
      "metadata": {
        "colab": {
          "base_uri": "https://localhost:8080/"
        },
        "id": "BIAllOgDRPXB",
        "outputId": "0d268a2a-7857-4763-b795-09c25d6fd9f9"
      },
      "execution_count": 35,
      "outputs": [
        {
          "output_type": "stream",
          "name": "stdout",
          "text": [
            "2\n",
            "3\n",
            "5\n",
            "7\n",
            "11\n",
            "13\n",
            "17\n",
            "19\n"
          ]
        }
      ]
    }
  ]
}