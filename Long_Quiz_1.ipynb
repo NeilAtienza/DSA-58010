{
  "nbformat": 4,
  "nbformat_minor": 0,
  "metadata": {
    "colab": {
      "provenance": [],
      "authorship_tag": "ABX9TyMq+cqqVD3/fx4bneBeFzYC",
      "include_colab_link": true
    },
    "kernelspec": {
      "name": "python3",
      "display_name": "Python 3"
    },
    "language_info": {
      "name": "python"
    }
  },
  "cells": [
    {
      "cell_type": "markdown",
      "metadata": {
        "id": "view-in-github",
        "colab_type": "text"
      },
      "source": [
        "<a href=\"https://colab.research.google.com/github/VaNeila/DSA-58010/blob/main/Long_Quiz_1.ipynb\" target=\"_parent\"><img src=\"https://colab.research.google.com/assets/colab-badge.svg\" alt=\"Open In Colab\"/></a>"
      ]
    },
    {
      "cell_type": "markdown",
      "source": [
        "Long Quiz 1"
      ],
      "metadata": {
        "id": "UYvqkYm9OlvX"
      }
    },
    {
      "cell_type": "code",
      "execution_count": 3,
      "metadata": {
        "colab": {
          "base_uri": "https://localhost:8080/"
        },
        "id": "K_s0ioI6Ojz5",
        "outputId": "168a8aba-4cac-40d7-f15e-5e6f57b0b1ac"
      },
      "outputs": [
        {
          "output_type": "stream",
          "name": "stdout",
          "text": [
            "My full name is Neil Tristan Arizobal Atienza\n",
            "My name in reverse order is Atienza Arizobal Tristan Neil\n"
          ]
        }
      ],
      "source": [
        "#array\n",
        "\n",
        "name = [\"Neil\", \"Tristan\", \"Arizobal\", \"Atienza\"]\n",
        "w = name[0]\n",
        "x = name[1]\n",
        "y = name[2]\n",
        "z = name[3]\n",
        "\n",
        "print(\"My full name is\",w,x,y,z)\n",
        "\n",
        "revname1 = z\n",
        "revname2 = y\n",
        "revname3 = x\n",
        "revname4 = w\n",
        "\n",
        "print(\"My name in reverse order is\", revname1,revname2,revname3,revname4)"
      ]
    }
  ]
}