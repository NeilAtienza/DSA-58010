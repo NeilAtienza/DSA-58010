{
  "nbformat": 4,
  "nbformat_minor": 0,
  "metadata": {
    "colab": {
      "provenance": [],
      "authorship_tag": "ABX9TyN2WmkQ7JU30Ryhx1hZrw70",
      "include_colab_link": true
    },
    "kernelspec": {
      "name": "python3",
      "display_name": "Python 3"
    },
    "language_info": {
      "name": "python"
    }
  },
  "cells": [
    {
      "cell_type": "markdown",
      "metadata": {
        "id": "view-in-github",
        "colab_type": "text"
      },
      "source": [
        "<a href=\"https://colab.research.google.com/github/VaNeila/DSA-58010/blob/main/Atienza%2C_Activity.ipynb\" target=\"_parent\"><img src=\"https://colab.research.google.com/assets/colab-badge.svg\" alt=\"Open In Colab\"/></a>"
      ]
    },
    {
      "cell_type": "markdown",
      "source": [
        "1.  Write a Python program to create an array of 10 integers and display the array items. Access individual elements through indexes and compute for the sum."
      ],
      "metadata": {
        "id": "5To2B7seMsH8"
      }
    },
    {
      "cell_type": "code",
      "execution_count": 12,
      "metadata": {
        "colab": {
          "base_uri": "https://localhost:8080/"
        },
        "id": "5H8FVSEQMpsj",
        "outputId": "727627e0-8af2-4f31-9232-253f96df0e6b"
      },
      "outputs": [
        {
          "output_type": "stream",
          "name": "stdout",
          "text": [
            "First Integer is 0\n",
            "Second Integer is 1\n",
            "Third Integer is 2\n",
            "Fourth Integer is 3\n",
            "Fifth Integer is 4\n",
            "Sixth Integer is 5\n",
            "Seventh Integer is 6\n",
            "Eighth Integer is 7\n",
            "Nineth Integer is 8\n",
            "Tenth Integer is 9\n",
            "The total sum of the integers is  45\n"
          ]
        }
      ],
      "source": [
        "import array as ray\n",
        "\n",
        "b = ray.array ('b', [0,1,2,3,4,5,6,7,8,9])\n",
        "\n",
        "print(\"First Integer is\", b[0])\n",
        "print(\"Second Integer is\", b[1])\n",
        "print(\"Third Integer is\", b[2])\n",
        "print(\"Fourth Integer is\", b[3])\n",
        "print(\"Fifth Integer is\", b[4])\n",
        "print(\"Sixth Integer is\", b[5])\n",
        "print(\"Seventh Integer is\", b[6])\n",
        "print(\"Eighth Integer is\", b[7])\n",
        "print(\"Nineth Integer is\", b[8])\n",
        "print(\"Tenth Integer is\", b[9])\n",
        "\n",
        "\n",
        "def _sum(ray):\n",
        "    sum = 0\n",
        "    for b in ray:\n",
        "        sum = sum + b\n",
        "    return(sum)\n",
        "ray = [0,1,2,3,4,5,6,7,8,9]\n",
        "tot = sum(ray)\n",
        "print('The total sum of the integers is ', tot)\n"
      ]
    },
    {
      "cell_type": "markdown",
      "source": [
        "Write a Python program to append a new item to the end of the array. Original array: numbers = [1, 2, 3, 4, 5, 6, 7, 8, 9, 10]"
      ],
      "metadata": {
        "id": "FS1bVbaoRD8I"
      }
    },
    {
      "cell_type": "code",
      "source": [
        "import array as ray\n",
        "\n",
        "r = ray.array('b', [1,2,3,4,5,6,7,8,9,10])\n",
        " \n",
        "\n",
        "r.insert(10, 11)\n",
        " \n",
        "print (\"Modified array : \", end =\" \")\n",
        "for b in (r):\n",
        "    print (b, end =\" \")\n",
        "print()"
      ],
      "metadata": {
        "colab": {
          "base_uri": "https://localhost:8080/"
        },
        "id": "JvFQwLL7RUd8",
        "outputId": "fca5166e-c240-4fd3-c7a2-8881aa2a5c2c"
      },
      "execution_count": 22,
      "outputs": [
        {
          "output_type": "stream",
          "name": "stdout",
          "text": [
            "Modified array :  1 2 3 4 5 6 7 8 9 10 11 \n"
          ]
        }
      ]
    },
    {
      "cell_type": "markdown",
      "source": [
        "Write a Python program to insert a new item before the second element in an existing array. Original array: numbers = [1, 2, 3, 4, 5, 6, 7, 8, 9, 10]"
      ],
      "metadata": {
        "id": "IBlwKqiNUvj2"
      }
    },
    {
      "cell_type": "code",
      "source": [
        "import array as ray\n",
        "\n",
        "r = ray.array('b', [1,2,3,4,5,6,7,8,9,10])\n",
        "\n",
        "r.insert(1, 30)\n",
        " \n",
        "print (\"Inserted array : \", end =\" \")\n",
        "for b in (r):\n",
        "    print (b, end =\" \")\n",
        "print()"
      ],
      "metadata": {
        "colab": {
          "base_uri": "https://localhost:8080/"
        },
        "id": "nJK7rsHvU0e_",
        "outputId": "5cf93d35-7df8-4119-eeff-7e77e293d4b2"
      },
      "execution_count": 23,
      "outputs": [
        {
          "output_type": "stream",
          "name": "stdout",
          "text": [
            "Inserted array :  1 30 2 3 4 5 6 7 8 9 10 \n"
          ]
        }
      ]
    },
    {
      "cell_type": "markdown",
      "source": [
        "Write a Python program to reverse the order of the items in the array.Original array: numbers = [5, 4, 3, 2, 1]"
      ],
      "metadata": {
        "id": "BD_jn9u1ViZF"
      }
    },
    {
      "cell_type": "code",
      "source": [
        "ray = [1,2,3,4,5]\n",
        "print(\"Original Array :\",ray)\n",
        " \n",
        "res = ray[::-1]\n",
        "print(\"Reversed Array :\",res)"
      ],
      "metadata": {
        "colab": {
          "base_uri": "https://localhost:8080/"
        },
        "id": "-AGqyP79V6i1",
        "outputId": "9c479ed5-c810-4b3e-dc58-2b9d4cbe997a"
      },
      "execution_count": 26,
      "outputs": [
        {
          "output_type": "stream",
          "name": "stdout",
          "text": [
            "Original Array : [1, 2, 3, 4, 5]\n",
            "Reversed Array : [5, 4, 3, 2, 1]\n"
          ]
        }
      ]
    },
    {
      "cell_type": "markdown",
      "source": [
        "Write a Python program to get the length of the array. Original array: numbers = [5, 4, 3, 2, 1]"
      ],
      "metadata": {
        "id": "EU8ZWUv0WolQ"
      }
    },
    {
      "cell_type": "code",
      "source": [
        "from operator import length_hint \n",
        "inp_lst = [5,4,3,2,1]\n",
        "print(\"Array's length:\")\n",
        "size = length_hint(inp_lst)\n",
        "print(size)"
      ],
      "metadata": {
        "colab": {
          "base_uri": "https://localhost:8080/"
        },
        "id": "GgRCTvamWrzx",
        "outputId": "831d455f-2c2d-46f2-b31b-af54425d4b7c"
      },
      "execution_count": 27,
      "outputs": [
        {
          "output_type": "stream",
          "name": "stdout",
          "text": [
            "Array's length:\n",
            "5\n"
          ]
        }
      ]
    }
  ]
}