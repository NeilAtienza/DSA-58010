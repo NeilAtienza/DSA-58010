{
  "nbformat": 4,
  "nbformat_minor": 0,
  "metadata": {
    "colab": {
      "name": "Practical Lab Exam_Atienza.ipynb",
      "provenance": [],
      "authorship_tag": "ABX9TyM4tA1oizzMqaHy7DyB8kRz",
      "include_colab_link": true
    },
    "kernelspec": {
      "name": "python3",
      "display_name": "Python 3"
    },
    "language_info": {
      "name": "python"
    }
  },
  "cells": [
    {
      "cell_type": "markdown",
      "metadata": {
        "id": "view-in-github",
        "colab_type": "text"
      },
      "source": [
        "<a href=\"https://colab.research.google.com/github/VaNeila/DSA-58010/blob/main/Practical_Lab_Exam_Atienza.ipynb\" target=\"_parent\"><img src=\"https://colab.research.google.com/assets/colab-badge.svg\" alt=\"Open In Colab\"/></a>"
      ]
    },
    {
      "cell_type": "markdown",
      "source": [
        "Practical Lab Exam\n",
        "\n",
        "1. Design an algorithm and the corresponding flowchart (Note: You may use LucidChart or any application) for adding the test scores as given below if the number is even: 26,49,98,87,62,75\n",
        "2. Translate the algorithm to a Python program (using Google Colab)\n",
        "3. Save your source codes to GitHub\n",
        "4. Copy the link of your GitHub repository DSA 58010 here"
      ],
      "metadata": {
        "id": "LnlrVhVOeBuO"
      }
    },
    {
      "cell_type": "code",
      "execution_count": 3,
      "metadata": {
        "colab": {
          "base_uri": "https://localhost:8080/"
        },
        "id": "5VGuxaQad0_Y",
        "outputId": "4c75418a-33ad-43df-cf37-afc31facc564"
      },
      "outputs": [
        {
          "output_type": "stream",
          "name": "stdout",
          "text": [
            "Sum up the even numbers given in the set: [26,49,98,87,62,75]\n",
            "The even numbers in the given set are:  [26, 98, 62]\n",
            "The total sum is :  186\n"
          ]
        }
      ],
      "source": [
        "numbers = [26,49,98,87,62,75]\n",
        "\n",
        "\n",
        "even_number = [number for number in numbers if number % 2 == 0]\n",
        "total = sum(even_number)\n",
        "\n",
        "\n",
        "print(\"Sum up the even numbers given in the set: [26,49,98,87,62,75]\")\n",
        "print(\"The even numbers in the given set are: \", even_number)\n",
        "print(\"The total sum is : \", total)"
      ]
    }
  ]
}