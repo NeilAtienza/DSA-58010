{
  "nbformat": 4,
  "nbformat_minor": 0,
  "metadata": {
    "colab": {
      "provenance": [],
      "authorship_tag": "ABX9TyP110KlqNNyA5Q6gt5ipzWr",
      "include_colab_link": true
    },
    "kernelspec": {
      "name": "python3",
      "display_name": "Python 3"
    },
    "language_info": {
      "name": "python"
    }
  },
  "cells": [
    {
      "cell_type": "markdown",
      "metadata": {
        "id": "view-in-github",
        "colab_type": "text"
      },
      "source": [
        "<a href=\"https://colab.research.google.com/github/VaNeila/DSA-58010/blob/main/Prelim_Exam_Atienza.ipynb\" target=\"_parent\"><img src=\"https://colab.research.google.com/assets/colab-badge.svg\" alt=\"Open In Colab\"/></a>"
      ]
    },
    {
      "cell_type": "markdown",
      "source": [
        "Prelim Exam Atienza"
      ],
      "metadata": {
        "id": "7ORrx3l0RqAM"
      }
    },
    {
      "cell_type": "code",
      "execution_count": 10,
      "metadata": {
        "colab": {
          "base_uri": "https://localhost:8080/"
        },
        "id": "9SFQtZkiRgRw",
        "outputId": "c7c4aff3-29ed-43b8-af7f-86cd33fc5b93"
      },
      "outputs": [
        {
          "output_type": "stream",
          "name": "stdout",
          "text": [
            "The numbers from 1 - 10 are 1 2 3 4 5 6 7 8 9 and 10\n",
            "The even numbers in the array are 2 4 6 8 and 10\n",
            "The number of even numbers in the array is 5\n"
          ]
        }
      ],
      "source": [
        "#array\n",
        "\n",
        "A = [1,2,3,4,5,6,7,8,9,10]\n",
        "\n",
        "q = A[0]\n",
        "r = A[1]\n",
        "s = A[2]\n",
        "t = A[3]\n",
        "u = A[4]\n",
        "v = A[5]\n",
        "w = A[6]\n",
        "x = A[7]\n",
        "y = A[8]\n",
        "z = A[9]\n",
        "\n",
        "print(\"The numbers from 1 - 10 are\",q,r,s,t,u,v,w,x,y,\"and\",z)\n",
        "print(\"The even numbers in the array are\",r,t,v,x,\"and\",z)\n",
        "\n",
        "B = [2,4,6,8,10] #even numbers in array a \n",
        "\n",
        "print(\"The number of even numbers in the array is\",len(B))"
      ]
    }
  ]
}